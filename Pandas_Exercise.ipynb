{
 "cells": [
  {
   "cell_type": "markdown",
   "metadata": {},
   "source": [
    "# Pandas Exercise"
   ]
  },
  {
   "cell_type": "markdown",
   "metadata": {},
   "source": [
    "### Import the python packages"
   ]
  },
  {
   "cell_type": "code",
   "execution_count": 1,
   "metadata": {},
   "outputs": [],
   "source": [
    "import pandas as pd\n",
    "import numpy as np"
   ]
  },
  {
   "cell_type": "markdown",
   "metadata": {},
   "source": [
    "### 1. Import the customer data into python and name the DataFrame as 'cust'."
   ]
  },
  {
   "cell_type": "code",
   "execution_count": 3,
   "metadata": {},
   "outputs": [],
   "source": [
    "cust = pd.read_csv('Customers.csv')\n",
    "# to execute same code, keep the dataset in your current directory"
   ]
  },
  {
   "cell_type": "markdown",
   "metadata": {},
   "source": [
    "### 2. Understand the data using different functions and attributes like shape, index, columns, dtypes.ndim, info(), get_dtype_counts etc. "
   ]
  },
  {
   "cell_type": "code",
   "execution_count": 5,
   "metadata": {},
   "outputs": [
    {
     "data": {
      "text/html": [
       "<div>\n",
       "<style scoped>\n",
       "    .dataframe tbody tr th:only-of-type {\n",
       "        vertical-align: middle;\n",
       "    }\n",
       "\n",
       "    .dataframe tbody tr th {\n",
       "        vertical-align: top;\n",
       "    }\n",
       "\n",
       "    .dataframe thead th {\n",
       "        text-align: right;\n",
       "    }\n",
       "</style>\n",
       "<table border=\"1\" class=\"dataframe\">\n",
       "  <thead>\n",
       "    <tr style=\"text-align: right;\">\n",
       "      <th></th>\n",
       "      <th>Customer_ID</th>\n",
       "      <th>Gender</th>\n",
       "      <th>First_Date</th>\n",
       "      <th>First_region</th>\n",
       "      <th>First_state</th>\n",
       "      <th>First_city</th>\n",
       "      <th>Recent_Date</th>\n",
       "      <th>Last_region</th>\n",
       "      <th>Last_state</th>\n",
       "      <th>Last_city</th>\n",
       "      <th>Customer_Value</th>\n",
       "      <th>Buy_Times</th>\n",
       "      <th>Points_Earned</th>\n",
       "      <th>Points_Redeemed</th>\n",
       "    </tr>\n",
       "  </thead>\n",
       "  <tbody>\n",
       "    <tr>\n",
       "      <th>0</th>\n",
       "      <td>129609144</td>\n",
       "      <td>M</td>\n",
       "      <td>20130130</td>\n",
       "      <td>West</td>\n",
       "      <td>Gujarat</td>\n",
       "      <td>Surat</td>\n",
       "      <td>20130216</td>\n",
       "      <td>West</td>\n",
       "      <td>Gujarat</td>\n",
       "      <td>Surat</td>\n",
       "      <td>2032.0</td>\n",
       "      <td>2</td>\n",
       "      <td>200.0</td>\n",
       "      <td>0.0</td>\n",
       "    </tr>\n",
       "    <tr>\n",
       "      <th>1</th>\n",
       "      <td>129627580</td>\n",
       "      <td>M</td>\n",
       "      <td>20130129</td>\n",
       "      <td>North</td>\n",
       "      <td>Delhi</td>\n",
       "      <td>Delhi</td>\n",
       "      <td>20130129</td>\n",
       "      <td>North</td>\n",
       "      <td>Delhi</td>\n",
       "      <td>Delhi</td>\n",
       "      <td>1709.0</td>\n",
       "      <td>1</td>\n",
       "      <td>100.0</td>\n",
       "      <td>0.0</td>\n",
       "    </tr>\n",
       "    <tr>\n",
       "      <th>2</th>\n",
       "      <td>130363481</td>\n",
       "      <td>M</td>\n",
       "      <td>20130221</td>\n",
       "      <td>West</td>\n",
       "      <td>Gujarat</td>\n",
       "      <td>Surat</td>\n",
       "      <td>20130221</td>\n",
       "      <td>West</td>\n",
       "      <td>Gujarat</td>\n",
       "      <td>Surat</td>\n",
       "      <td>523.0</td>\n",
       "      <td>1</td>\n",
       "      <td>10.0</td>\n",
       "      <td>0.0</td>\n",
       "    </tr>\n",
       "    <tr>\n",
       "      <th>3</th>\n",
       "      <td>49817480</td>\n",
       "      <td>M</td>\n",
       "      <td>20130222</td>\n",
       "      <td>West</td>\n",
       "      <td>Maharashtra</td>\n",
       "      <td>Pimpri-Chinchwad</td>\n",
       "      <td>20130222</td>\n",
       "      <td>West</td>\n",
       "      <td>Maharashtra</td>\n",
       "      <td>Pimpri-Chinchwad</td>\n",
       "      <td>5132.0</td>\n",
       "      <td>1</td>\n",
       "      <td>170.0</td>\n",
       "      <td>0.0</td>\n",
       "    </tr>\n",
       "    <tr>\n",
       "      <th>4</th>\n",
       "      <td>126343829</td>\n",
       "      <td>F</td>\n",
       "      <td>20130301</td>\n",
       "      <td>North</td>\n",
       "      <td>Delhi</td>\n",
       "      <td>Delhi</td>\n",
       "      <td>20130301</td>\n",
       "      <td>North</td>\n",
       "      <td>Delhi</td>\n",
       "      <td>Delhi</td>\n",
       "      <td>1008.0</td>\n",
       "      <td>1</td>\n",
       "      <td>60.0</td>\n",
       "      <td>0.0</td>\n",
       "    </tr>\n",
       "  </tbody>\n",
       "</table>\n",
       "</div>"
      ],
      "text/plain": [
       "   Customer_ID Gender  First_Date First_region  First_state        First_city  \\\n",
       "0    129609144      M    20130130         West      Gujarat             Surat   \n",
       "1    129627580      M    20130129        North        Delhi             Delhi   \n",
       "2    130363481      M    20130221         West      Gujarat             Surat   \n",
       "3     49817480      M    20130222         West  Maharashtra  Pimpri-Chinchwad   \n",
       "4    126343829      F    20130301        North        Delhi             Delhi   \n",
       "\n",
       "   Recent_Date Last_region   Last_state         Last_city  Customer_Value  \\\n",
       "0     20130216        West      Gujarat             Surat          2032.0   \n",
       "1     20130129       North        Delhi             Delhi          1709.0   \n",
       "2     20130221        West      Gujarat             Surat           523.0   \n",
       "3     20130222        West  Maharashtra  Pimpri-Chinchwad          5132.0   \n",
       "4     20130301       North        Delhi             Delhi          1008.0   \n",
       "\n",
       "   Buy_Times  Points_Earned  Points_Redeemed  \n",
       "0          2          200.0              0.0  \n",
       "1          1          100.0              0.0  \n",
       "2          1           10.0              0.0  \n",
       "3          1          170.0              0.0  \n",
       "4          1           60.0              0.0  "
      ]
     },
     "execution_count": 5,
     "metadata": {},
     "output_type": "execute_result"
    }
   ],
   "source": [
    "# to display the top five row \n",
    "cust.head()\n",
    "#cust[:5]"
   ]
  },
  {
   "cell_type": "code",
   "execution_count": 10,
   "metadata": {},
   "outputs": [
    {
     "data": {
      "text/plain": [
       "RangeIndex(start=0, stop=10000, step=1)"
      ]
     },
     "execution_count": 10,
     "metadata": {},
     "output_type": "execute_result"
    }
   ],
   "source": [
    "cust.index\n",
    "# It shows the informations about how the index are arranged "
   ]
  },
  {
   "cell_type": "code",
   "execution_count": 12,
   "metadata": {},
   "outputs": [
    {
     "data": {
      "text/plain": [
       "Index(['Customer_ID', 'Gender', 'First_Date', 'First_region', 'First_state',\n",
       "       'First_city', 'Recent_Date', 'Last_region', 'Last_state', 'Last_city',\n",
       "       'Customer_Value', 'Buy_Times', 'Points_Earned', 'Points_Redeemed'],\n",
       "      dtype='object')"
      ]
     },
     "execution_count": 12,
     "metadata": {},
     "output_type": "execute_result"
    }
   ],
   "source": [
    "# To get the names of all columns in the DataFrame\n",
    "cust.columns"
   ]
  },
  {
   "cell_type": "code",
   "execution_count": 14,
   "metadata": {},
   "outputs": [
    {
     "data": {
      "text/plain": [
       "['Customer_ID',\n",
       " 'Gender',\n",
       " 'First_Date',\n",
       " 'First_region',\n",
       " 'First_state',\n",
       " 'First_city',\n",
       " 'Recent_Date',\n",
       " 'Last_region',\n",
       " 'Last_state',\n",
       " 'Last_city',\n",
       " 'Customer_Value',\n",
       " 'Buy_Times',\n",
       " 'Points_Earned',\n",
       " 'Points_Redeemed']"
      ]
     },
     "execution_count": 14,
     "metadata": {},
     "output_type": "execute_result"
    }
   ],
   "source": [
    "# To get the names of all columns in the DataFrame in the form of list\n",
    "cust.columns.tolist()"
   ]
  },
  {
   "cell_type": "code",
   "execution_count": 15,
   "metadata": {},
   "outputs": [
    {
     "data": {
      "text/plain": [
       "Customer_ID          int64\n",
       "Gender              object\n",
       "First_Date           int64\n",
       "First_region        object\n",
       "First_state         object\n",
       "First_city          object\n",
       "Recent_Date          int64\n",
       "Last_region         object\n",
       "Last_state          object\n",
       "Last_city           object\n",
       "Customer_Value     float64\n",
       "Buy_Times            int64\n",
       "Points_Earned      float64\n",
       "Points_Redeemed    float64\n",
       "dtype: object"
      ]
     },
     "execution_count": 15,
     "metadata": {},
     "output_type": "execute_result"
    }
   ],
   "source": [
    "# To know the datatype of all columns in the DataFrame\n",
    "cust.dtypes"
   ]
  },
  {
   "cell_type": "code",
   "execution_count": 16,
   "metadata": {},
   "outputs": [
    {
     "data": {
      "text/plain": [
       "2"
      ]
     },
     "execution_count": 16,
     "metadata": {},
     "output_type": "execute_result"
    }
   ],
   "source": [
    "cust.ndim"
   ]
  },
  {
   "cell_type": "code",
   "execution_count": 18,
   "metadata": {},
   "outputs": [
    {
     "name": "stdout",
     "output_type": "stream",
     "text": [
      "<class 'pandas.core.frame.DataFrame'>\n",
      "RangeIndex: 10000 entries, 0 to 9999\n",
      "Data columns (total 14 columns):\n",
      "Customer_ID        10000 non-null int64\n",
      "Gender             9986 non-null object\n",
      "First_Date         10000 non-null int64\n",
      "First_region       9979 non-null object\n",
      "First_state        9983 non-null object\n",
      "First_city         10000 non-null object\n",
      "Recent_Date        10000 non-null int64\n",
      "Last_region        10000 non-null object\n",
      "Last_state         10000 non-null object\n",
      "Last_city          10000 non-null object\n",
      "Customer_Value     9964 non-null float64\n",
      "Buy_Times          10000 non-null int64\n",
      "Points_Earned      9979 non-null float64\n",
      "Points_Redeemed    9988 non-null float64\n",
      "dtypes: float64(3), int64(4), object(7)\n",
      "memory usage: 1.1+ MB\n"
     ]
    }
   ],
   "source": [
    "# To get the file level information about the dataset\n",
    "cust.info()"
   ]
  },
  {
   "cell_type": "code",
   "execution_count": 21,
   "metadata": {},
   "outputs": [
    {
     "data": {
      "text/html": [
       "<div>\n",
       "<style scoped>\n",
       "    .dataframe tbody tr th:only-of-type {\n",
       "        vertical-align: middle;\n",
       "    }\n",
       "\n",
       "    .dataframe tbody tr th {\n",
       "        vertical-align: top;\n",
       "    }\n",
       "\n",
       "    .dataframe thead th {\n",
       "        text-align: right;\n",
       "    }\n",
       "</style>\n",
       "<table border=\"1\" class=\"dataframe\">\n",
       "  <thead>\n",
       "    <tr style=\"text-align: right;\">\n",
       "      <th></th>\n",
       "      <th>Customer_ID</th>\n",
       "      <th>First_Date</th>\n",
       "      <th>Recent_Date</th>\n",
       "      <th>Customer_Value</th>\n",
       "      <th>Buy_Times</th>\n",
       "      <th>Points_Earned</th>\n",
       "      <th>Points_Redeemed</th>\n",
       "    </tr>\n",
       "  </thead>\n",
       "  <tbody>\n",
       "    <tr>\n",
       "      <th>count</th>\n",
       "      <td>1.000000e+04</td>\n",
       "      <td>1.000000e+04</td>\n",
       "      <td>1.000000e+04</td>\n",
       "      <td>9.964000e+03</td>\n",
       "      <td>10000.000000</td>\n",
       "      <td>9979.000000</td>\n",
       "      <td>9.988000e+03</td>\n",
       "    </tr>\n",
       "    <tr>\n",
       "      <th>mean</th>\n",
       "      <td>8.347904e+07</td>\n",
       "      <td>2.012199e+07</td>\n",
       "      <td>2.012537e+07</td>\n",
       "      <td>1.254489e+04</td>\n",
       "      <td>5.477600</td>\n",
       "      <td>529.355747</td>\n",
       "      <td>5.822111e+02</td>\n",
       "    </tr>\n",
       "    <tr>\n",
       "      <th>std</th>\n",
       "      <td>4.802529e+07</td>\n",
       "      <td>3.424373e+03</td>\n",
       "      <td>4.744995e+03</td>\n",
       "      <td>6.546771e+04</td>\n",
       "      <td>11.677831</td>\n",
       "      <td>1861.315677</td>\n",
       "      <td>1.521278e+04</td>\n",
       "    </tr>\n",
       "    <tr>\n",
       "      <th>min</th>\n",
       "      <td>5.850000e+02</td>\n",
       "      <td>2.012010e+07</td>\n",
       "      <td>2.012010e+07</td>\n",
       "      <td>0.000000e+00</td>\n",
       "      <td>1.000000</td>\n",
       "      <td>0.000000</td>\n",
       "      <td>0.000000e+00</td>\n",
       "    </tr>\n",
       "    <tr>\n",
       "      <th>25%</th>\n",
       "      <td>3.617353e+07</td>\n",
       "      <td>2.012023e+07</td>\n",
       "      <td>2.012082e+07</td>\n",
       "      <td>1.484500e+03</td>\n",
       "      <td>1.000000</td>\n",
       "      <td>65.000000</td>\n",
       "      <td>0.000000e+00</td>\n",
       "    </tr>\n",
       "    <tr>\n",
       "      <th>50%</th>\n",
       "      <td>1.146933e+08</td>\n",
       "      <td>2.012070e+07</td>\n",
       "      <td>2.012122e+07</td>\n",
       "      <td>3.960001e+03</td>\n",
       "      <td>2.000000</td>\n",
       "      <td>195.000000</td>\n",
       "      <td>0.000000e+00</td>\n",
       "    </tr>\n",
       "    <tr>\n",
       "      <th>75%</th>\n",
       "      <td>1.216234e+08</td>\n",
       "      <td>2.012111e+07</td>\n",
       "      <td>2.013030e+07</td>\n",
       "      <td>1.113600e+04</td>\n",
       "      <td>6.000000</td>\n",
       "      <td>535.000000</td>\n",
       "      <td>0.000000e+00</td>\n",
       "    </tr>\n",
       "    <tr>\n",
       "      <th>max</th>\n",
       "      <td>1.324735e+08</td>\n",
       "      <td>2.013033e+07</td>\n",
       "      <td>2.013033e+07</td>\n",
       "      <td>5.098715e+06</td>\n",
       "      <td>586.000000</td>\n",
       "      <td>142030.000000</td>\n",
       "      <td>1.387520e+06</td>\n",
       "    </tr>\n",
       "  </tbody>\n",
       "</table>\n",
       "</div>"
      ],
      "text/plain": [
       "        Customer_ID    First_Date   Recent_Date  Customer_Value     Buy_Times  \\\n",
       "count  1.000000e+04  1.000000e+04  1.000000e+04    9.964000e+03  10000.000000   \n",
       "mean   8.347904e+07  2.012199e+07  2.012537e+07    1.254489e+04      5.477600   \n",
       "std    4.802529e+07  3.424373e+03  4.744995e+03    6.546771e+04     11.677831   \n",
       "min    5.850000e+02  2.012010e+07  2.012010e+07    0.000000e+00      1.000000   \n",
       "25%    3.617353e+07  2.012023e+07  2.012082e+07    1.484500e+03      1.000000   \n",
       "50%    1.146933e+08  2.012070e+07  2.012122e+07    3.960001e+03      2.000000   \n",
       "75%    1.216234e+08  2.012111e+07  2.013030e+07    1.113600e+04      6.000000   \n",
       "max    1.324735e+08  2.013033e+07  2.013033e+07    5.098715e+06    586.000000   \n",
       "\n",
       "       Points_Earned  Points_Redeemed  \n",
       "count    9979.000000     9.988000e+03  \n",
       "mean      529.355747     5.822111e+02  \n",
       "std      1861.315677     1.521278e+04  \n",
       "min         0.000000     0.000000e+00  \n",
       "25%        65.000000     0.000000e+00  \n",
       "50%       195.000000     0.000000e+00  \n",
       "75%       535.000000     0.000000e+00  \n",
       "max    142030.000000     1.387520e+06  "
      ]
     },
     "execution_count": 21,
     "metadata": {},
     "output_type": "execute_result"
    }
   ],
   "source": [
    "# To know the sattistical summary of dataset\n",
    "cust.describe()\n",
    "# It gives the information about total number of observation, mean, max, median, standard deviation, percentiles\n",
    "# Note : it gives the result of only numerical variable columns"
   ]
  },
  {
   "cell_type": "code",
   "execution_count": 24,
   "metadata": {},
   "outputs": [
    {
     "data": {
      "text/plain": [
       "float64    3\n",
       "int64      4\n",
       "object     7\n",
       "dtype: int64"
      ]
     },
     "execution_count": 24,
     "metadata": {},
     "output_type": "execute_result"
    }
   ],
   "source": [
    "# It gives the information about number of columns of which datatype\n",
    "cust.get_dtype_counts()"
   ]
  },
  {
   "cell_type": "code",
   "execution_count": 26,
   "metadata": {},
   "outputs": [
    {
     "data": {
      "text/plain": [
       "Customer_ID        10000\n",
       "Gender              9986\n",
       "First_Date         10000\n",
       "First_region        9979\n",
       "First_state         9983\n",
       "First_city         10000\n",
       "Recent_Date        10000\n",
       "Last_region        10000\n",
       "Last_state         10000\n",
       "Last_city          10000\n",
       "Customer_Value      9964\n",
       "Buy_Times          10000\n",
       "Points_Earned       9979\n",
       "Points_Redeemed     9988\n",
       "dtype: int64"
      ]
     },
     "execution_count": 26,
     "metadata": {},
     "output_type": "execute_result"
    }
   ],
   "source": [
    "# To show the number of observations are presents in particular Attributes/variables/columns\n",
    "# Indirectly we can observe the missing values \n",
    "cust.count()"
   ]
  },
  {
   "cell_type": "code",
   "execution_count": 30,
   "metadata": {},
   "outputs": [
    {
     "data": {
      "text/plain": [
       "(10000, 14)"
      ]
     },
     "execution_count": 30,
     "metadata": {},
     "output_type": "execute_result"
    }
   ],
   "source": [
    "# To get the number of observation and number of columns\n",
    "cust.shape"
   ]
  },
  {
   "cell_type": "code",
   "execution_count": 31,
   "metadata": {},
   "outputs": [
    {
     "data": {
      "text/plain": [
       "10000"
      ]
     },
     "execution_count": 31,
     "metadata": {},
     "output_type": "execute_result"
    }
   ],
   "source": [
    "# To display the number of rows only\n",
    "cust.shape[0]"
   ]
  },
  {
   "cell_type": "code",
   "execution_count": 32,
   "metadata": {},
   "outputs": [
    {
     "data": {
      "text/plain": [
       "14"
      ]
     },
     "execution_count": 32,
     "metadata": {},
     "output_type": "execute_result"
    }
   ],
   "source": [
    "# To show the number of columns/ no. of attributes\n",
    "cust.shape[1]"
   ]
  },
  {
   "cell_type": "markdown",
   "metadata": {},
   "source": [
    "### 3. What is percentage of missing values for customer Value variable? "
   ]
  },
  {
   "cell_type": "code",
   "execution_count": 48,
   "metadata": {},
   "outputs": [
    {
     "data": {
      "text/plain": [
       "36"
      ]
     },
     "execution_count": 48,
     "metadata": {},
     "output_type": "execute_result"
    }
   ],
   "source": [
    "# firstly find out the number of rows mussing in 'Customer_value'\n",
    "cust['Customer_Value'].isnull().sum()\n",
    "# a= cust['Customer_Value'].isnull().sum()"
   ]
  },
  {
   "cell_type": "code",
   "execution_count": 52,
   "metadata": {},
   "outputs": [
    {
     "data": {
      "text/plain": [
       "10000"
      ]
     },
     "execution_count": 52,
     "metadata": {},
     "output_type": "execute_result"
    }
   ],
   "source": [
    "# find the total length of observation\n",
    "cust.shape[0]\n",
    "# b= cust.shape[0]"
   ]
  },
  {
   "cell_type": "code",
   "execution_count": 53,
   "metadata": {},
   "outputs": [
    {
     "data": {
      "text/plain": [
       "0.0036"
      ]
     },
     "execution_count": 53,
     "metadata": {},
     "output_type": "execute_result"
    }
   ],
   "source": [
    "#divide the missing length of 'Customer_Value' by 'Total length of observation'\n",
    "cust['Customer_Value'].isnull().sum()/cust.shape[0]\n",
    "# a/b"
   ]
  },
  {
   "cell_type": "code",
   "execution_count": 54,
   "metadata": {},
   "outputs": [
    {
     "data": {
      "text/plain": [
       "0.36"
      ]
     },
     "execution_count": 54,
     "metadata": {},
     "output_type": "execute_result"
    }
   ],
   "source": [
    "# to display in terms of percentage multiply by 100\n",
    "cust['Customer_Value'].isnull().sum()/cust.shape[0]*100"
   ]
  },
  {
   "cell_type": "code",
   "execution_count": 56,
   "metadata": {},
   "outputs": [
    {
     "data": {
      "text/plain": [
       "0.36"
      ]
     },
     "execution_count": 56,
     "metadata": {},
     "output_type": "execute_result"
    }
   ],
   "source": [
    "round(((cust['Customer_Value'].isnull().sum()/cust.shape[0])*100),3)"
   ]
  },
  {
   "cell_type": "markdown",
   "metadata": {},
   "source": [
    "### 4. Create two subsets with unique and duplicate values."
   ]
  },
  {
   "cell_type": "code",
   "execution_count": 59,
   "metadata": {},
   "outputs": [
    {
     "data": {
      "text/plain": [
       "45"
      ]
     },
     "execution_count": 59,
     "metadata": {},
     "output_type": "execute_result"
    }
   ],
   "source": [
    "# To fing the how many duplicate observation in the dataframe\n",
    "cust.Customer_ID.duplicated().sum()"
   ]
  },
  {
   "cell_type": "code",
   "execution_count": 65,
   "metadata": {},
   "outputs": [
    {
     "data": {
      "text/html": [
       "<div>\n",
       "<style scoped>\n",
       "    .dataframe tbody tr th:only-of-type {\n",
       "        vertical-align: middle;\n",
       "    }\n",
       "\n",
       "    .dataframe tbody tr th {\n",
       "        vertical-align: top;\n",
       "    }\n",
       "\n",
       "    .dataframe thead th {\n",
       "        text-align: right;\n",
       "    }\n",
       "</style>\n",
       "<table border=\"1\" class=\"dataframe\">\n",
       "  <thead>\n",
       "    <tr style=\"text-align: right;\">\n",
       "      <th></th>\n",
       "      <th>Customer_ID</th>\n",
       "      <th>Gender</th>\n",
       "      <th>First_Date</th>\n",
       "      <th>First_region</th>\n",
       "      <th>First_state</th>\n",
       "      <th>First_city</th>\n",
       "      <th>Recent_Date</th>\n",
       "      <th>Last_region</th>\n",
       "      <th>Last_state</th>\n",
       "      <th>Last_city</th>\n",
       "      <th>Customer_Value</th>\n",
       "      <th>Buy_Times</th>\n",
       "      <th>Points_Earned</th>\n",
       "      <th>Points_Redeemed</th>\n",
       "    </tr>\n",
       "  </thead>\n",
       "  <tbody>\n",
       "    <tr>\n",
       "      <th>9817</th>\n",
       "      <td>113918804</td>\n",
       "      <td>M</td>\n",
       "      <td>20120226</td>\n",
       "      <td>West</td>\n",
       "      <td>Gujarat</td>\n",
       "      <td>Ahmedabad</td>\n",
       "      <td>20120712</td>\n",
       "      <td>West</td>\n",
       "      <td>Gujarat</td>\n",
       "      <td>Ahmedabad</td>\n",
       "      <td>7048.800</td>\n",
       "      <td>6</td>\n",
       "      <td>282.0</td>\n",
       "      <td>0.0</td>\n",
       "    </tr>\n",
       "    <tr>\n",
       "      <th>9818</th>\n",
       "      <td>113933467</td>\n",
       "      <td>F</td>\n",
       "      <td>20120226</td>\n",
       "      <td>South</td>\n",
       "      <td>Tamil Nadu</td>\n",
       "      <td>Chennai</td>\n",
       "      <td>20130312</td>\n",
       "      <td>East</td>\n",
       "      <td>Bihar</td>\n",
       "      <td>Patna</td>\n",
       "      <td>68863.601</td>\n",
       "      <td>19</td>\n",
       "      <td>3374.0</td>\n",
       "      <td>0.0</td>\n",
       "    </tr>\n",
       "    <tr>\n",
       "      <th>9819</th>\n",
       "      <td>41337621</td>\n",
       "      <td>F</td>\n",
       "      <td>20120228</td>\n",
       "      <td>West</td>\n",
       "      <td>Gujarat</td>\n",
       "      <td>Surat</td>\n",
       "      <td>20130207</td>\n",
       "      <td>West</td>\n",
       "      <td>Gujarat</td>\n",
       "      <td>Surat</td>\n",
       "      <td>7036.001</td>\n",
       "      <td>6</td>\n",
       "      <td>635.0</td>\n",
       "      <td>0.0</td>\n",
       "    </tr>\n",
       "    <tr>\n",
       "      <th>9820</th>\n",
       "      <td>6896372</td>\n",
       "      <td>M</td>\n",
       "      <td>20120228</td>\n",
       "      <td>West</td>\n",
       "      <td>Maharashtra</td>\n",
       "      <td>Nashik</td>\n",
       "      <td>20120228</td>\n",
       "      <td>West</td>\n",
       "      <td>Maharashtra</td>\n",
       "      <td>Nashik</td>\n",
       "      <td>1259.000</td>\n",
       "      <td>1</td>\n",
       "      <td>70.0</td>\n",
       "      <td>0.0</td>\n",
       "    </tr>\n",
       "    <tr>\n",
       "      <th>9821</th>\n",
       "      <td>114142599</td>\n",
       "      <td>M</td>\n",
       "      <td>20120303</td>\n",
       "      <td>West</td>\n",
       "      <td>Gujarat</td>\n",
       "      <td>Surat</td>\n",
       "      <td>20130205</td>\n",
       "      <td>West</td>\n",
       "      <td>Gujarat</td>\n",
       "      <td>Surat</td>\n",
       "      <td>19136.096</td>\n",
       "      <td>13</td>\n",
       "      <td>986.0</td>\n",
       "      <td>0.0</td>\n",
       "    </tr>\n",
       "  </tbody>\n",
       "</table>\n",
       "</div>"
      ],
      "text/plain": [
       "      Customer_ID Gender  First_Date First_region  First_state First_city  \\\n",
       "9817    113918804      M    20120226         West      Gujarat  Ahmedabad   \n",
       "9818    113933467      F    20120226        South   Tamil Nadu    Chennai   \n",
       "9819     41337621      F    20120228         West      Gujarat      Surat   \n",
       "9820      6896372      M    20120228         West  Maharashtra     Nashik   \n",
       "9821    114142599      M    20120303         West      Gujarat      Surat   \n",
       "\n",
       "      Recent_Date Last_region   Last_state  Last_city  Customer_Value  \\\n",
       "9817     20120712        West      Gujarat  Ahmedabad        7048.800   \n",
       "9818     20130312        East        Bihar      Patna       68863.601   \n",
       "9819     20130207        West      Gujarat      Surat        7036.001   \n",
       "9820     20120228        West  Maharashtra     Nashik        1259.000   \n",
       "9821     20130205        West      Gujarat      Surat       19136.096   \n",
       "\n",
       "      Buy_Times  Points_Earned  Points_Redeemed  \n",
       "9817          6          282.0              0.0  \n",
       "9818         19         3374.0              0.0  \n",
       "9819          6          635.0              0.0  \n",
       "9820          1           70.0              0.0  \n",
       "9821         13          986.0              0.0  "
      ]
     },
     "execution_count": 65,
     "metadata": {},
     "output_type": "execute_result"
    }
   ],
   "source": [
    "# create a subset of duplicate value\n",
    "duplicate= cust[cust.Customer_ID.duplicated()]\n",
    "duplicate.head()"
   ]
  },
  {
   "cell_type": "code",
   "execution_count": 75,
   "metadata": {},
   "outputs": [
    {
     "data": {
      "text/plain": [
       "(45, 14)"
      ]
     },
     "execution_count": 75,
     "metadata": {},
     "output_type": "execute_result"
    }
   ],
   "source": [
    "# to get the number of rows and columns of duplicate subset\n",
    "duplicate.shape"
   ]
  },
  {
   "cell_type": "code",
   "execution_count": 73,
   "metadata": {},
   "outputs": [
    {
     "data": {
      "text/html": [
       "<div>\n",
       "<style scoped>\n",
       "    .dataframe tbody tr th:only-of-type {\n",
       "        vertical-align: middle;\n",
       "    }\n",
       "\n",
       "    .dataframe tbody tr th {\n",
       "        vertical-align: top;\n",
       "    }\n",
       "\n",
       "    .dataframe thead th {\n",
       "        text-align: right;\n",
       "    }\n",
       "</style>\n",
       "<table border=\"1\" class=\"dataframe\">\n",
       "  <thead>\n",
       "    <tr style=\"text-align: right;\">\n",
       "      <th></th>\n",
       "      <th>Customer_ID</th>\n",
       "      <th>Gender</th>\n",
       "      <th>First_Date</th>\n",
       "      <th>First_region</th>\n",
       "      <th>First_state</th>\n",
       "      <th>First_city</th>\n",
       "      <th>Recent_Date</th>\n",
       "      <th>Last_region</th>\n",
       "      <th>Last_state</th>\n",
       "      <th>Last_city</th>\n",
       "      <th>Customer_Value</th>\n",
       "      <th>Buy_Times</th>\n",
       "      <th>Points_Earned</th>\n",
       "      <th>Points_Redeemed</th>\n",
       "    </tr>\n",
       "  </thead>\n",
       "  <tbody>\n",
       "    <tr>\n",
       "      <th>0</th>\n",
       "      <td>129609144</td>\n",
       "      <td>M</td>\n",
       "      <td>20130130</td>\n",
       "      <td>West</td>\n",
       "      <td>Gujarat</td>\n",
       "      <td>Surat</td>\n",
       "      <td>20130216</td>\n",
       "      <td>West</td>\n",
       "      <td>Gujarat</td>\n",
       "      <td>Surat</td>\n",
       "      <td>2032.0</td>\n",
       "      <td>2</td>\n",
       "      <td>200.0</td>\n",
       "      <td>0.0</td>\n",
       "    </tr>\n",
       "    <tr>\n",
       "      <th>1</th>\n",
       "      <td>129627580</td>\n",
       "      <td>M</td>\n",
       "      <td>20130129</td>\n",
       "      <td>North</td>\n",
       "      <td>Delhi</td>\n",
       "      <td>Delhi</td>\n",
       "      <td>20130129</td>\n",
       "      <td>North</td>\n",
       "      <td>Delhi</td>\n",
       "      <td>Delhi</td>\n",
       "      <td>1709.0</td>\n",
       "      <td>1</td>\n",
       "      <td>100.0</td>\n",
       "      <td>0.0</td>\n",
       "    </tr>\n",
       "    <tr>\n",
       "      <th>2</th>\n",
       "      <td>130363481</td>\n",
       "      <td>M</td>\n",
       "      <td>20130221</td>\n",
       "      <td>West</td>\n",
       "      <td>Gujarat</td>\n",
       "      <td>Surat</td>\n",
       "      <td>20130221</td>\n",
       "      <td>West</td>\n",
       "      <td>Gujarat</td>\n",
       "      <td>Surat</td>\n",
       "      <td>523.0</td>\n",
       "      <td>1</td>\n",
       "      <td>10.0</td>\n",
       "      <td>0.0</td>\n",
       "    </tr>\n",
       "    <tr>\n",
       "      <th>3</th>\n",
       "      <td>49817480</td>\n",
       "      <td>M</td>\n",
       "      <td>20130222</td>\n",
       "      <td>West</td>\n",
       "      <td>Maharashtra</td>\n",
       "      <td>Pimpri-Chinchwad</td>\n",
       "      <td>20130222</td>\n",
       "      <td>West</td>\n",
       "      <td>Maharashtra</td>\n",
       "      <td>Pimpri-Chinchwad</td>\n",
       "      <td>5132.0</td>\n",
       "      <td>1</td>\n",
       "      <td>170.0</td>\n",
       "      <td>0.0</td>\n",
       "    </tr>\n",
       "    <tr>\n",
       "      <th>4</th>\n",
       "      <td>126343829</td>\n",
       "      <td>F</td>\n",
       "      <td>20130301</td>\n",
       "      <td>North</td>\n",
       "      <td>Delhi</td>\n",
       "      <td>Delhi</td>\n",
       "      <td>20130301</td>\n",
       "      <td>North</td>\n",
       "      <td>Delhi</td>\n",
       "      <td>Delhi</td>\n",
       "      <td>1008.0</td>\n",
       "      <td>1</td>\n",
       "      <td>60.0</td>\n",
       "      <td>0.0</td>\n",
       "    </tr>\n",
       "  </tbody>\n",
       "</table>\n",
       "</div>"
      ],
      "text/plain": [
       "   Customer_ID Gender  First_Date First_region  First_state        First_city  \\\n",
       "0    129609144      M    20130130         West      Gujarat             Surat   \n",
       "1    129627580      M    20130129        North        Delhi             Delhi   \n",
       "2    130363481      M    20130221         West      Gujarat             Surat   \n",
       "3     49817480      M    20130222         West  Maharashtra  Pimpri-Chinchwad   \n",
       "4    126343829      F    20130301        North        Delhi             Delhi   \n",
       "\n",
       "   Recent_Date Last_region   Last_state         Last_city  Customer_Value  \\\n",
       "0     20130216        West      Gujarat             Surat          2032.0   \n",
       "1     20130129       North        Delhi             Delhi          1709.0   \n",
       "2     20130221        West      Gujarat             Surat           523.0   \n",
       "3     20130222        West  Maharashtra  Pimpri-Chinchwad          5132.0   \n",
       "4     20130301       North        Delhi             Delhi          1008.0   \n",
       "\n",
       "   Buy_Times  Points_Earned  Points_Redeemed  \n",
       "0          2          200.0              0.0  \n",
       "1          1          100.0              0.0  \n",
       "2          1           10.0              0.0  \n",
       "3          1          170.0              0.0  \n",
       "4          1           60.0              0.0  "
      ]
     },
     "execution_count": 73,
     "metadata": {},
     "output_type": "execute_result"
    }
   ],
   "source": [
    "# create a subset of unique values value\n",
    "unique_values= cust[cust.Customer_ID.duplicated()==False]\n",
    "unique_values.head()"
   ]
  },
  {
   "cell_type": "code",
   "execution_count": 74,
   "metadata": {},
   "outputs": [
    {
     "data": {
      "text/plain": [
       "(9955, 14)"
      ]
     },
     "execution_count": 74,
     "metadata": {},
     "output_type": "execute_result"
    }
   ],
   "source": [
    "# to get the number of rows and columns of unique subset\n",
    "unique_values.shape"
   ]
  },
  {
   "cell_type": "markdown",
   "metadata": {},
   "source": [
    "### 5. Create data set with list of customers whose customer value greater than 10000. "
   ]
  },
  {
   "cell_type": "code",
   "execution_count": 84,
   "metadata": {},
   "outputs": [
    {
     "data": {
      "text/plain": [
       "2723"
      ]
     },
     "execution_count": 84,
     "metadata": {},
     "output_type": "execute_result"
    }
   ],
   "source": [
    "cust_10000= cust[cust['Customer_Value']> 10000]\n",
    "cust_10000.shape[0]"
   ]
  },
  {
   "cell_type": "code",
   "execution_count": 89,
   "metadata": {},
   "outputs": [],
   "source": [
    "# Reset the index values and drops the original index number\n",
    "cust_10000= cust[cust['Customer_Value']> 10000].reset_index(drop= True)"
   ]
  },
  {
   "cell_type": "code",
   "execution_count": 90,
   "metadata": {},
   "outputs": [
    {
     "data": {
      "text/html": [
       "<div>\n",
       "<style scoped>\n",
       "    .dataframe tbody tr th:only-of-type {\n",
       "        vertical-align: middle;\n",
       "    }\n",
       "\n",
       "    .dataframe tbody tr th {\n",
       "        vertical-align: top;\n",
       "    }\n",
       "\n",
       "    .dataframe thead th {\n",
       "        text-align: right;\n",
       "    }\n",
       "</style>\n",
       "<table border=\"1\" class=\"dataframe\">\n",
       "  <thead>\n",
       "    <tr style=\"text-align: right;\">\n",
       "      <th></th>\n",
       "      <th>Customer_ID</th>\n",
       "      <th>Gender</th>\n",
       "      <th>First_Date</th>\n",
       "      <th>First_region</th>\n",
       "      <th>First_state</th>\n",
       "      <th>First_city</th>\n",
       "      <th>Recent_Date</th>\n",
       "      <th>Last_region</th>\n",
       "      <th>Last_state</th>\n",
       "      <th>Last_city</th>\n",
       "      <th>Customer_Value</th>\n",
       "      <th>Buy_Times</th>\n",
       "      <th>Points_Earned</th>\n",
       "      <th>Points_Redeemed</th>\n",
       "    </tr>\n",
       "  </thead>\n",
       "  <tbody>\n",
       "    <tr>\n",
       "      <th>0</th>\n",
       "      <td>1610085</td>\n",
       "      <td>F</td>\n",
       "      <td>20120103</td>\n",
       "      <td>North</td>\n",
       "      <td>Delhi</td>\n",
       "      <td>Delhi</td>\n",
       "      <td>20121013</td>\n",
       "      <td>North</td>\n",
       "      <td>Delhi</td>\n",
       "      <td>Delhi</td>\n",
       "      <td>10380.199</td>\n",
       "      <td>6</td>\n",
       "      <td>1189.0</td>\n",
       "      <td>0.0</td>\n",
       "    </tr>\n",
       "    <tr>\n",
       "      <th>1</th>\n",
       "      <td>7518872</td>\n",
       "      <td>M</td>\n",
       "      <td>20120104</td>\n",
       "      <td>North</td>\n",
       "      <td>Uttar Pradesh</td>\n",
       "      <td>Kanpur</td>\n",
       "      <td>20130123</td>\n",
       "      <td>North</td>\n",
       "      <td>Uttar Pradesh</td>\n",
       "      <td>Kanpur</td>\n",
       "      <td>14587.000</td>\n",
       "      <td>6</td>\n",
       "      <td>865.0</td>\n",
       "      <td>0.0</td>\n",
       "    </tr>\n",
       "    <tr>\n",
       "      <th>2</th>\n",
       "      <td>63508964</td>\n",
       "      <td>M</td>\n",
       "      <td>20120106</td>\n",
       "      <td>West</td>\n",
       "      <td>Maharashtra</td>\n",
       "      <td>Pimpri-Chinchwad</td>\n",
       "      <td>20130222</td>\n",
       "      <td>West</td>\n",
       "      <td>Maharashtra</td>\n",
       "      <td>Pimpri-Chinchwad</td>\n",
       "      <td>145472.702</td>\n",
       "      <td>36</td>\n",
       "      <td>680.0</td>\n",
       "      <td>16635.0</td>\n",
       "    </tr>\n",
       "    <tr>\n",
       "      <th>3</th>\n",
       "      <td>23667984</td>\n",
       "      <td>F</td>\n",
       "      <td>20120107</td>\n",
       "      <td>West</td>\n",
       "      <td>Maharashtra</td>\n",
       "      <td>Nagpur</td>\n",
       "      <td>20130313</td>\n",
       "      <td>West</td>\n",
       "      <td>Maharashtra</td>\n",
       "      <td>Nagpur</td>\n",
       "      <td>19640.700</td>\n",
       "      <td>12</td>\n",
       "      <td>268.0</td>\n",
       "      <td>2549.0</td>\n",
       "    </tr>\n",
       "    <tr>\n",
       "      <th>4</th>\n",
       "      <td>84634600</td>\n",
       "      <td>M</td>\n",
       "      <td>20120108</td>\n",
       "      <td>South</td>\n",
       "      <td>Karnataka</td>\n",
       "      <td>Bangalore</td>\n",
       "      <td>20130307</td>\n",
       "      <td>South</td>\n",
       "      <td>Karnataka</td>\n",
       "      <td>Bangalore</td>\n",
       "      <td>32377.602</td>\n",
       "      <td>22</td>\n",
       "      <td>1029.0</td>\n",
       "      <td>1771.0</td>\n",
       "    </tr>\n",
       "  </tbody>\n",
       "</table>\n",
       "</div>"
      ],
      "text/plain": [
       "   Customer_ID Gender  First_Date First_region    First_state  \\\n",
       "0      1610085      F    20120103        North          Delhi   \n",
       "1      7518872      M    20120104        North  Uttar Pradesh   \n",
       "2     63508964      M    20120106         West    Maharashtra   \n",
       "3     23667984      F    20120107         West    Maharashtra   \n",
       "4     84634600      M    20120108        South      Karnataka   \n",
       "\n",
       "         First_city  Recent_Date Last_region     Last_state         Last_city  \\\n",
       "0             Delhi     20121013       North          Delhi             Delhi   \n",
       "1            Kanpur     20130123       North  Uttar Pradesh            Kanpur   \n",
       "2  Pimpri-Chinchwad     20130222        West    Maharashtra  Pimpri-Chinchwad   \n",
       "3            Nagpur     20130313        West    Maharashtra            Nagpur   \n",
       "4         Bangalore     20130307       South      Karnataka         Bangalore   \n",
       "\n",
       "   Customer_Value  Buy_Times  Points_Earned  Points_Redeemed  \n",
       "0       10380.199          6         1189.0              0.0  \n",
       "1       14587.000          6          865.0              0.0  \n",
       "2      145472.702         36          680.0          16635.0  \n",
       "3       19640.700         12          268.0           2549.0  \n",
       "4       32377.602         22         1029.0           1771.0  "
      ]
     },
     "execution_count": 90,
     "metadata": {},
     "output_type": "execute_result"
    }
   ],
   "source": [
    "cust_10000.head()"
   ]
  },
  {
   "cell_type": "markdown",
   "metadata": {},
   "source": [
    "### 6. In customer table, create a new variable called “customer value segment” using customer value as follows. -\n",
    " ### High Segment - > 25000\n",
    " ### Medium Segment – Between 10000 and 25000\n",
    " ### Low Segment – less than or equal to 10000 "
   ]
  },
  {
   "cell_type": "code",
   "execution_count": 110,
   "metadata": {},
   "outputs": [],
   "source": [
    "from numpy import where as IF\n",
    "#customer_value = CV\n",
    "CV= cust.Customer_Value\n",
    "cust['Customer_value_segment']= IF(CV > 25000, 'HIgh Srgment', IF((CV > 10000) & (CV < 25000), 'Medium Segment','Low Segment'))"
   ]
  },
  {
   "cell_type": "code",
   "execution_count": 111,
   "metadata": {},
   "outputs": [
    {
     "data": {
      "text/html": [
       "<div>\n",
       "<style scoped>\n",
       "    .dataframe tbody tr th:only-of-type {\n",
       "        vertical-align: middle;\n",
       "    }\n",
       "\n",
       "    .dataframe tbody tr th {\n",
       "        vertical-align: top;\n",
       "    }\n",
       "\n",
       "    .dataframe thead th {\n",
       "        text-align: right;\n",
       "    }\n",
       "</style>\n",
       "<table border=\"1\" class=\"dataframe\">\n",
       "  <thead>\n",
       "    <tr style=\"text-align: right;\">\n",
       "      <th></th>\n",
       "      <th>Customer_ID</th>\n",
       "      <th>Gender</th>\n",
       "      <th>First_Date</th>\n",
       "      <th>First_region</th>\n",
       "      <th>First_state</th>\n",
       "      <th>First_city</th>\n",
       "      <th>Recent_Date</th>\n",
       "      <th>Last_region</th>\n",
       "      <th>Last_state</th>\n",
       "      <th>Last_city</th>\n",
       "      <th>Customer_Value</th>\n",
       "      <th>Buy_Times</th>\n",
       "      <th>Points_Earned</th>\n",
       "      <th>Points_Redeemed</th>\n",
       "      <th>Customer_value_segment</th>\n",
       "    </tr>\n",
       "  </thead>\n",
       "  <tbody>\n",
       "    <tr>\n",
       "      <th>0</th>\n",
       "      <td>129609144</td>\n",
       "      <td>M</td>\n",
       "      <td>20130130</td>\n",
       "      <td>West</td>\n",
       "      <td>Gujarat</td>\n",
       "      <td>Surat</td>\n",
       "      <td>20130216</td>\n",
       "      <td>West</td>\n",
       "      <td>Gujarat</td>\n",
       "      <td>Surat</td>\n",
       "      <td>2032.0</td>\n",
       "      <td>2</td>\n",
       "      <td>200.0</td>\n",
       "      <td>0.0</td>\n",
       "      <td>Low Segment</td>\n",
       "    </tr>\n",
       "    <tr>\n",
       "      <th>1</th>\n",
       "      <td>129627580</td>\n",
       "      <td>M</td>\n",
       "      <td>20130129</td>\n",
       "      <td>North</td>\n",
       "      <td>Delhi</td>\n",
       "      <td>Delhi</td>\n",
       "      <td>20130129</td>\n",
       "      <td>North</td>\n",
       "      <td>Delhi</td>\n",
       "      <td>Delhi</td>\n",
       "      <td>1709.0</td>\n",
       "      <td>1</td>\n",
       "      <td>100.0</td>\n",
       "      <td>0.0</td>\n",
       "      <td>Low Segment</td>\n",
       "    </tr>\n",
       "    <tr>\n",
       "      <th>2</th>\n",
       "      <td>130363481</td>\n",
       "      <td>M</td>\n",
       "      <td>20130221</td>\n",
       "      <td>West</td>\n",
       "      <td>Gujarat</td>\n",
       "      <td>Surat</td>\n",
       "      <td>20130221</td>\n",
       "      <td>West</td>\n",
       "      <td>Gujarat</td>\n",
       "      <td>Surat</td>\n",
       "      <td>523.0</td>\n",
       "      <td>1</td>\n",
       "      <td>10.0</td>\n",
       "      <td>0.0</td>\n",
       "      <td>Low Segment</td>\n",
       "    </tr>\n",
       "    <tr>\n",
       "      <th>3</th>\n",
       "      <td>49817480</td>\n",
       "      <td>M</td>\n",
       "      <td>20130222</td>\n",
       "      <td>West</td>\n",
       "      <td>Maharashtra</td>\n",
       "      <td>Pimpri-Chinchwad</td>\n",
       "      <td>20130222</td>\n",
       "      <td>West</td>\n",
       "      <td>Maharashtra</td>\n",
       "      <td>Pimpri-Chinchwad</td>\n",
       "      <td>5132.0</td>\n",
       "      <td>1</td>\n",
       "      <td>170.0</td>\n",
       "      <td>0.0</td>\n",
       "      <td>Low Segment</td>\n",
       "    </tr>\n",
       "    <tr>\n",
       "      <th>4</th>\n",
       "      <td>126343829</td>\n",
       "      <td>F</td>\n",
       "      <td>20130301</td>\n",
       "      <td>North</td>\n",
       "      <td>Delhi</td>\n",
       "      <td>Delhi</td>\n",
       "      <td>20130301</td>\n",
       "      <td>North</td>\n",
       "      <td>Delhi</td>\n",
       "      <td>Delhi</td>\n",
       "      <td>1008.0</td>\n",
       "      <td>1</td>\n",
       "      <td>60.0</td>\n",
       "      <td>0.0</td>\n",
       "      <td>Low Segment</td>\n",
       "    </tr>\n",
       "  </tbody>\n",
       "</table>\n",
       "</div>"
      ],
      "text/plain": [
       "   Customer_ID Gender  First_Date First_region  First_state        First_city  \\\n",
       "0    129609144      M    20130130         West      Gujarat             Surat   \n",
       "1    129627580      M    20130129        North        Delhi             Delhi   \n",
       "2    130363481      M    20130221         West      Gujarat             Surat   \n",
       "3     49817480      M    20130222         West  Maharashtra  Pimpri-Chinchwad   \n",
       "4    126343829      F    20130301        North        Delhi             Delhi   \n",
       "\n",
       "   Recent_Date Last_region   Last_state         Last_city  Customer_Value  \\\n",
       "0     20130216        West      Gujarat             Surat          2032.0   \n",
       "1     20130129       North        Delhi             Delhi          1709.0   \n",
       "2     20130221        West      Gujarat             Surat           523.0   \n",
       "3     20130222        West  Maharashtra  Pimpri-Chinchwad          5132.0   \n",
       "4     20130301       North        Delhi             Delhi          1008.0   \n",
       "\n",
       "   Buy_Times  Points_Earned  Points_Redeemed Customer_value_segment  \n",
       "0          2          200.0              0.0            Low Segment  \n",
       "1          1          100.0              0.0            Low Segment  \n",
       "2          1           10.0              0.0            Low Segment  \n",
       "3          1          170.0              0.0            Low Segment  \n",
       "4          1           60.0              0.0            Low Segment  "
      ]
     },
     "execution_count": 111,
     "metadata": {},
     "output_type": "execute_result"
    }
   ],
   "source": [
    "cust.head()"
   ]
  },
  {
   "cell_type": "markdown",
   "metadata": {},
   "source": [
    "### 7. Create variables “average revenue per trip” and “balance points” in the customer data set. "
   ]
  },
  {
   "cell_type": "code",
   "execution_count": 114,
   "metadata": {},
   "outputs": [],
   "source": [
    "cust = cust.assign(average_revenue_per_trip= cust.Customer_Value/cust.Buy_Times,\n",
    "                  Balance_Points=cust.Points_Earned - cust.Points_Redeemed )"
   ]
  },
  {
   "cell_type": "code",
   "execution_count": 115,
   "metadata": {},
   "outputs": [
    {
     "data": {
      "text/html": [
       "<div>\n",
       "<style scoped>\n",
       "    .dataframe tbody tr th:only-of-type {\n",
       "        vertical-align: middle;\n",
       "    }\n",
       "\n",
       "    .dataframe tbody tr th {\n",
       "        vertical-align: top;\n",
       "    }\n",
       "\n",
       "    .dataframe thead th {\n",
       "        text-align: right;\n",
       "    }\n",
       "</style>\n",
       "<table border=\"1\" class=\"dataframe\">\n",
       "  <thead>\n",
       "    <tr style=\"text-align: right;\">\n",
       "      <th></th>\n",
       "      <th>Customer_ID</th>\n",
       "      <th>Gender</th>\n",
       "      <th>First_Date</th>\n",
       "      <th>First_region</th>\n",
       "      <th>First_state</th>\n",
       "      <th>First_city</th>\n",
       "      <th>Recent_Date</th>\n",
       "      <th>Last_region</th>\n",
       "      <th>Last_state</th>\n",
       "      <th>Last_city</th>\n",
       "      <th>Customer_Value</th>\n",
       "      <th>Buy_Times</th>\n",
       "      <th>Points_Earned</th>\n",
       "      <th>Points_Redeemed</th>\n",
       "      <th>Customer_value_segment</th>\n",
       "      <th>average_revenue_per_trip</th>\n",
       "      <th>Balance_Points</th>\n",
       "    </tr>\n",
       "  </thead>\n",
       "  <tbody>\n",
       "    <tr>\n",
       "      <th>0</th>\n",
       "      <td>129609144</td>\n",
       "      <td>M</td>\n",
       "      <td>20130130</td>\n",
       "      <td>West</td>\n",
       "      <td>Gujarat</td>\n",
       "      <td>Surat</td>\n",
       "      <td>20130216</td>\n",
       "      <td>West</td>\n",
       "      <td>Gujarat</td>\n",
       "      <td>Surat</td>\n",
       "      <td>2032.0</td>\n",
       "      <td>2</td>\n",
       "      <td>200.0</td>\n",
       "      <td>0.0</td>\n",
       "      <td>Low Segment</td>\n",
       "      <td>1016.0</td>\n",
       "      <td>200.0</td>\n",
       "    </tr>\n",
       "    <tr>\n",
       "      <th>1</th>\n",
       "      <td>129627580</td>\n",
       "      <td>M</td>\n",
       "      <td>20130129</td>\n",
       "      <td>North</td>\n",
       "      <td>Delhi</td>\n",
       "      <td>Delhi</td>\n",
       "      <td>20130129</td>\n",
       "      <td>North</td>\n",
       "      <td>Delhi</td>\n",
       "      <td>Delhi</td>\n",
       "      <td>1709.0</td>\n",
       "      <td>1</td>\n",
       "      <td>100.0</td>\n",
       "      <td>0.0</td>\n",
       "      <td>Low Segment</td>\n",
       "      <td>1709.0</td>\n",
       "      <td>100.0</td>\n",
       "    </tr>\n",
       "    <tr>\n",
       "      <th>2</th>\n",
       "      <td>130363481</td>\n",
       "      <td>M</td>\n",
       "      <td>20130221</td>\n",
       "      <td>West</td>\n",
       "      <td>Gujarat</td>\n",
       "      <td>Surat</td>\n",
       "      <td>20130221</td>\n",
       "      <td>West</td>\n",
       "      <td>Gujarat</td>\n",
       "      <td>Surat</td>\n",
       "      <td>523.0</td>\n",
       "      <td>1</td>\n",
       "      <td>10.0</td>\n",
       "      <td>0.0</td>\n",
       "      <td>Low Segment</td>\n",
       "      <td>523.0</td>\n",
       "      <td>10.0</td>\n",
       "    </tr>\n",
       "    <tr>\n",
       "      <th>3</th>\n",
       "      <td>49817480</td>\n",
       "      <td>M</td>\n",
       "      <td>20130222</td>\n",
       "      <td>West</td>\n",
       "      <td>Maharashtra</td>\n",
       "      <td>Pimpri-Chinchwad</td>\n",
       "      <td>20130222</td>\n",
       "      <td>West</td>\n",
       "      <td>Maharashtra</td>\n",
       "      <td>Pimpri-Chinchwad</td>\n",
       "      <td>5132.0</td>\n",
       "      <td>1</td>\n",
       "      <td>170.0</td>\n",
       "      <td>0.0</td>\n",
       "      <td>Low Segment</td>\n",
       "      <td>5132.0</td>\n",
       "      <td>170.0</td>\n",
       "    </tr>\n",
       "    <tr>\n",
       "      <th>4</th>\n",
       "      <td>126343829</td>\n",
       "      <td>F</td>\n",
       "      <td>20130301</td>\n",
       "      <td>North</td>\n",
       "      <td>Delhi</td>\n",
       "      <td>Delhi</td>\n",
       "      <td>20130301</td>\n",
       "      <td>North</td>\n",
       "      <td>Delhi</td>\n",
       "      <td>Delhi</td>\n",
       "      <td>1008.0</td>\n",
       "      <td>1</td>\n",
       "      <td>60.0</td>\n",
       "      <td>0.0</td>\n",
       "      <td>Low Segment</td>\n",
       "      <td>1008.0</td>\n",
       "      <td>60.0</td>\n",
       "    </tr>\n",
       "  </tbody>\n",
       "</table>\n",
       "</div>"
      ],
      "text/plain": [
       "   Customer_ID Gender  First_Date First_region  First_state        First_city  \\\n",
       "0    129609144      M    20130130         West      Gujarat             Surat   \n",
       "1    129627580      M    20130129        North        Delhi             Delhi   \n",
       "2    130363481      M    20130221         West      Gujarat             Surat   \n",
       "3     49817480      M    20130222         West  Maharashtra  Pimpri-Chinchwad   \n",
       "4    126343829      F    20130301        North        Delhi             Delhi   \n",
       "\n",
       "   Recent_Date Last_region   Last_state         Last_city  Customer_Value  \\\n",
       "0     20130216        West      Gujarat             Surat          2032.0   \n",
       "1     20130129       North        Delhi             Delhi          1709.0   \n",
       "2     20130221        West      Gujarat             Surat           523.0   \n",
       "3     20130222        West  Maharashtra  Pimpri-Chinchwad          5132.0   \n",
       "4     20130301       North        Delhi             Delhi          1008.0   \n",
       "\n",
       "   Buy_Times  Points_Earned  Points_Redeemed Customer_value_segment  \\\n",
       "0          2          200.0              0.0            Low Segment   \n",
       "1          1          100.0              0.0            Low Segment   \n",
       "2          1           10.0              0.0            Low Segment   \n",
       "3          1          170.0              0.0            Low Segment   \n",
       "4          1           60.0              0.0            Low Segment   \n",
       "\n",
       "   average_revenue_per_trip  Balance_Points  \n",
       "0                    1016.0           200.0  \n",
       "1                    1709.0           100.0  \n",
       "2                     523.0            10.0  \n",
       "3                    5132.0           170.0  \n",
       "4                    1008.0            60.0  "
      ]
     },
     "execution_count": 115,
     "metadata": {},
     "output_type": "execute_result"
    }
   ],
   "source": [
    "cust.head()"
   ]
  },
  {
   "cell_type": "markdown",
   "metadata": {},
   "source": [
    "### 8. How many days between last purchase date and today? "
   ]
  },
  {
   "cell_type": "code",
   "execution_count": 118,
   "metadata": {},
   "outputs": [
    {
     "data": {
      "text/plain": [
       "0      2203 days\n",
       "1      2221 days\n",
       "2      2198 days\n",
       "3      2197 days\n",
       "4      2190 days\n",
       "5      2177 days\n",
       "6      2173 days\n",
       "7      2170 days\n",
       "8      2160 days\n",
       "9      2166 days\n",
       "10     2615 days\n",
       "11     2300 days\n",
       "12     2177 days\n",
       "13     2285 days\n",
       "14     2329 days\n",
       "15     2227 days\n",
       "16     2613 days\n",
       "17     2207 days\n",
       "18     2197 days\n",
       "19     2178 days\n",
       "20     2184 days\n",
       "21     2252 days\n",
       "22     2605 days\n",
       "23     2271 days\n",
       "24     2189 days\n",
       "25     2605 days\n",
       "26     2441 days\n",
       "27     2232 days\n",
       "28     2197 days\n",
       "29     2242 days\n",
       "          ...   \n",
       "9970   2161 days\n",
       "9971   2197 days\n",
       "9972   2328 days\n",
       "9973   2197 days\n",
       "9974   2172 days\n",
       "9975   2471 days\n",
       "9976   2236 days\n",
       "9977   2595 days\n",
       "9978   2589 days\n",
       "9979   2284 days\n",
       "9980   2179 days\n",
       "9981   2585 days\n",
       "9982   2178 days\n",
       "9983   2181 days\n",
       "9984   2181 days\n",
       "9985   2270 days\n",
       "9986   2584 days\n",
       "9987   2163 days\n",
       "9988   2584 days\n",
       "9989   2584 days\n",
       "9990   2582 days\n",
       "9991   2472 days\n",
       "9992   2487 days\n",
       "9993   2580 days\n",
       "9994   2201 days\n",
       "9995   2297 days\n",
       "9996   2172 days\n",
       "9997   2203 days\n",
       "9998   2570 days\n",
       "9999   2568 days\n",
       "Name: Recent_Date, Length: 10000, dtype: timedelta64[ns]"
      ]
     },
     "execution_count": 118,
     "metadata": {},
     "output_type": "execute_result"
    }
   ],
   "source": [
    "import datetime as dt\n",
    "today = pd.to_datetime(dt.datetime.now().date())\n",
    "day_difference = today - pd.to_datetime(cust.Recent_Date,format= '%Y%m%d')\n",
    "day_difference"
   ]
  },
  {
   "cell_type": "markdown",
   "metadata": {},
   "source": [
    "### 9. Calculate percentage of sales by each last city, state and region. "
   ]
  },
  {
   "cell_type": "code",
   "execution_count": 119,
   "metadata": {},
   "outputs": [],
   "source": [
    "# Select only 'last_region', 'last_state', 'last_city' and 'Customer_Value' columns\n",
    "demography= cust[['Last_region', 'Last_state', 'Last_city', 'Customer_Value']]"
   ]
  },
  {
   "cell_type": "code",
   "execution_count": 120,
   "metadata": {},
   "outputs": [
    {
     "data": {
      "text/html": [
       "<div>\n",
       "<style scoped>\n",
       "    .dataframe tbody tr th:only-of-type {\n",
       "        vertical-align: middle;\n",
       "    }\n",
       "\n",
       "    .dataframe tbody tr th {\n",
       "        vertical-align: top;\n",
       "    }\n",
       "\n",
       "    .dataframe thead th {\n",
       "        text-align: right;\n",
       "    }\n",
       "</style>\n",
       "<table border=\"1\" class=\"dataframe\">\n",
       "  <thead>\n",
       "    <tr style=\"text-align: right;\">\n",
       "      <th></th>\n",
       "      <th>Last_region</th>\n",
       "      <th>Last_state</th>\n",
       "      <th>Last_city</th>\n",
       "      <th>Customer_Value</th>\n",
       "    </tr>\n",
       "  </thead>\n",
       "  <tbody>\n",
       "    <tr>\n",
       "      <th>0</th>\n",
       "      <td>West</td>\n",
       "      <td>Gujarat</td>\n",
       "      <td>Surat</td>\n",
       "      <td>2032.0</td>\n",
       "    </tr>\n",
       "    <tr>\n",
       "      <th>1</th>\n",
       "      <td>North</td>\n",
       "      <td>Delhi</td>\n",
       "      <td>Delhi</td>\n",
       "      <td>1709.0</td>\n",
       "    </tr>\n",
       "    <tr>\n",
       "      <th>2</th>\n",
       "      <td>West</td>\n",
       "      <td>Gujarat</td>\n",
       "      <td>Surat</td>\n",
       "      <td>523.0</td>\n",
       "    </tr>\n",
       "    <tr>\n",
       "      <th>3</th>\n",
       "      <td>West</td>\n",
       "      <td>Maharashtra</td>\n",
       "      <td>Pimpri-Chinchwad</td>\n",
       "      <td>5132.0</td>\n",
       "    </tr>\n",
       "    <tr>\n",
       "      <th>4</th>\n",
       "      <td>North</td>\n",
       "      <td>Delhi</td>\n",
       "      <td>Delhi</td>\n",
       "      <td>1008.0</td>\n",
       "    </tr>\n",
       "  </tbody>\n",
       "</table>\n",
       "</div>"
      ],
      "text/plain": [
       "  Last_region   Last_state         Last_city  Customer_Value\n",
       "0        West      Gujarat             Surat          2032.0\n",
       "1       North        Delhi             Delhi          1709.0\n",
       "2        West      Gujarat             Surat           523.0\n",
       "3        West  Maharashtra  Pimpri-Chinchwad          5132.0\n",
       "4       North        Delhi             Delhi          1008.0"
      ]
     },
     "execution_count": 120,
     "metadata": {},
     "output_type": "execute_result"
    }
   ],
   "source": [
    "demography.head()"
   ]
  },
  {
   "cell_type": "code",
   "execution_count": 123,
   "metadata": {},
   "outputs": [
    {
     "data": {
      "text/plain": [
       "Last_region\n",
       "East     0.077987\n",
       "North    0.277416\n",
       "South    0.154038\n",
       "West     0.490560\n",
       "Name: Customer_Value, dtype: float64"
      ]
     },
     "execution_count": 123,
     "metadata": {},
     "output_type": "execute_result"
    }
   ],
   "source": [
    "demography.groupby(['Last_region'])['Customer_Value'].sum()/demography.Customer_Value.sum()"
   ]
  },
  {
   "cell_type": "code",
   "execution_count": 122,
   "metadata": {},
   "outputs": [
    {
     "data": {
      "text/plain": [
       "Last_region  Last_state       \n",
       "East         Assam                0.015573\n",
       "             Bihar                0.002606\n",
       "             Jharkhand            0.002456\n",
       "             Tripura              0.000188\n",
       "             West Bengal          0.057162\n",
       "North        Chandigarh           0.000328\n",
       "             Chhattisgarh         0.000053\n",
       "             Delhi                0.085912\n",
       "             Haryana              0.001415\n",
       "             Jammu and Kashmir    0.000049\n",
       "             Madhya Pradesh       0.053475\n",
       "             Orissa               0.001566\n",
       "             Punjab               0.000088\n",
       "             Rajasthan            0.031332\n",
       "             Uttar Pradesh        0.102959\n",
       "             Uttarakhand          0.000238\n",
       "South        Andhra Pradesh       0.014727\n",
       "             Karnataka            0.053301\n",
       "             Kerala               0.001009\n",
       "             Puducherry           0.000224\n",
       "             Tamil Nadu           0.046566\n",
       "             Telangana            0.038211\n",
       "West         Gujarat              0.375800\n",
       "             Maharashtra          0.114760\n",
       "Name: Customer_Value, dtype: float64"
      ]
     },
     "execution_count": 122,
     "metadata": {},
     "output_type": "execute_result"
    }
   ],
   "source": [
    "demography.groupby(['Last_region', 'Last_state'])['Customer_Value'].sum()/demography.Customer_Value.sum()"
   ]
  },
  {
   "cell_type": "code",
   "execution_count": 121,
   "metadata": {},
   "outputs": [
    {
     "data": {
      "text/plain": [
       "Last_region  Last_state         Last_city       \n",
       "East         Assam              Guwahati            0.015573\n",
       "             Bihar              Begusarai           0.000206\n",
       "                                Bhagalpur           0.000022\n",
       "                                Katihar             0.000469\n",
       "                                Patna               0.001851\n",
       "                                Purnia              0.000059\n",
       "             Jharkhand          Dhanbad             0.001975\n",
       "                                Jamshedpur          0.000028\n",
       "                                Ranchi              0.000453\n",
       "             Tripura            Agartala            0.000188\n",
       "             West Bengal        Asansol             0.000030\n",
       "                                Baranagar           0.000160\n",
       "                                Barasat             0.000040\n",
       "                                Bhatpara            0.000635\n",
       "                                Howrah              0.000178\n",
       "                                Kolkata             0.055734\n",
       "                                North Dumdum        0.000228\n",
       "                                Panihati            0.000055\n",
       "                                Rajpur Sonarpur     0.000017\n",
       "                                Siliguri            0.000083\n",
       "North        Chandigarh         Chandigarh          0.000328\n",
       "             Chhattisgarh       Korba               0.000022\n",
       "                                Raipur              0.000031\n",
       "             Delhi              Delhi               0.085813\n",
       "                                Karawal Nagar       0.000078\n",
       "                                New Delhi           0.000021\n",
       "             Haryana            Gurgaon             0.001263\n",
       "                                Karnal              0.000021\n",
       "                                Sonipat             0.000131\n",
       "             Jammu and Kashmir  Srinagar            0.000049\n",
       "                                                      ...   \n",
       "South        Tamil Nadu         Chennai             0.044012\n",
       "                                Madurai             0.001097\n",
       "                                Nagercoil           0.000051\n",
       "                                Salem               0.000248\n",
       "                                Thoothukudi         0.000419\n",
       "                                Tirunelveli         0.000068\n",
       "                                Tiruvottiyur        0.000119\n",
       "             Telangana          Hyderabad           0.038068\n",
       "                                Karimnagar          0.000055\n",
       "                                Khammam             0.000008\n",
       "                                Warangal            0.000080\n",
       "West         Gujarat            Ahmedabad           0.060634\n",
       "                                Gandhidham          0.000017\n",
       "                                Jamnagar            0.000708\n",
       "                                Rajkot              0.036418\n",
       "                                Surat               0.248166\n",
       "                                Vadodara            0.029857\n",
       "             Maharashtra        Ambernath           0.000039\n",
       "                                Aurangabad          0.000772\n",
       "                                Bhiwandi            0.000031\n",
       "                                Ichalkaranji        0.000286\n",
       "                                Mira-Bhayandar      0.001903\n",
       "                                Mumbai              0.050909\n",
       "                                Nagpur              0.016909\n",
       "                                Nashik              0.007371\n",
       "                                Navi Mumbai         0.000106\n",
       "                                Pimpri-Chinchwad    0.033146\n",
       "                                Thane               0.002372\n",
       "                                Ulhasnagar          0.000057\n",
       "                                Vasai-Virar         0.000860\n",
       "Name: Customer_Value, Length: 116, dtype: float64"
      ]
     },
     "execution_count": 121,
     "metadata": {},
     "output_type": "execute_result"
    }
   ],
   "source": [
    "demography.groupby(['Last_region', 'Last_state', 'Last_city'])['Customer_Value'].sum()/demography.Customer_Value.sum()"
   ]
  },
  {
   "cell_type": "markdown",
   "metadata": {},
   "source": [
    "### 10. What is the count of customers, average number of purchases and average purchase transaction value by last state and city."
   ]
  },
  {
   "cell_type": "code",
   "execution_count": 127,
   "metadata": {},
   "outputs": [
    {
     "data": {
      "text/plain": [
       "Last_state         Last_city      \n",
       "Andhra Pradesh     Guntur                1\n",
       "                   Kurnool               1\n",
       "                   Tirupati              2\n",
       "                   Vijayawada           20\n",
       "                   Visakhapatnam       117\n",
       "                   Vizianagaram          1\n",
       "Assam              Guwahati             30\n",
       "Bihar              Begusarai             1\n",
       "                   Bhagalpur             1\n",
       "                   Katihar               2\n",
       "                   Patna                20\n",
       "                   Purnia                1\n",
       "Chandigarh         Chandigarh            6\n",
       "Chhattisgarh       Korba                 1\n",
       "                   Raipur                1\n",
       "Delhi              Delhi              1034\n",
       "                   Karawal Nagar         2\n",
       "                   New Delhi             1\n",
       "Gujarat            Ahmedabad           621\n",
       "                   Gandhidham            1\n",
       "                   Jamnagar              6\n",
       "                   Rajkot              235\n",
       "                   Surat              2127\n",
       "                   Vadodara            388\n",
       "Haryana            Gurgaon               1\n",
       "                   Karnal                1\n",
       "                   Sonipat               1\n",
       "Jammu and Kashmir  Srinagar              1\n",
       "Jharkhand          Dhanbad              18\n",
       "                   Jamshedpur            1\n",
       "                                      ... \n",
       "Uttar Pradesh      Aligarh               9\n",
       "                   Allahabad             2\n",
       "                   Bareilly              3\n",
       "                   Etawah                1\n",
       "                   Firozabad             4\n",
       "                   Ghaziabad            27\n",
       "                   Gorakhpur             4\n",
       "                   Kanpur              854\n",
       "                   Loni                 10\n",
       "                   Lucknow             219\n",
       "                   Mathura               6\n",
       "                   Mau                   1\n",
       "                   Meerut                7\n",
       "                   Mirzapur              1\n",
       "                   Muzaffarnagar         2\n",
       "                   Noida                 1\n",
       "                   Rampur                1\n",
       "                   Saharanpur            2\n",
       "Uttarakhand        Dehradun              1\n",
       "                   Haridwar              1\n",
       "West Bengal        Asansol               1\n",
       "                   Baranagar             2\n",
       "                   Barasat               1\n",
       "                   Bhatpara              4\n",
       "                   Howrah                3\n",
       "                   Kolkata             543\n",
       "                   North Dumdum          3\n",
       "                   Panihati              1\n",
       "                   Rajpur Sonarpur       2\n",
       "                   Siliguri              1\n",
       "Name: Customer_ID, Length: 116, dtype: int64"
      ]
     },
     "execution_count": 127,
     "metadata": {},
     "output_type": "execute_result"
    }
   ],
   "source": [
    "cust.groupby(['Last_state', 'Last_city'])['Customer_ID'].count()"
   ]
  },
  {
   "cell_type": "code",
   "execution_count": 128,
   "metadata": {},
   "outputs": [
    {
     "data": {
      "text/plain": [
       "Last_state         Last_city      \n",
       "Andhra Pradesh     Guntur                1\n",
       "                   Kurnool               1\n",
       "                   Tirupati              2\n",
       "                   Vijayawada           20\n",
       "                   Visakhapatnam       117\n",
       "                   Vizianagaram          1\n",
       "Assam              Guwahati             30\n",
       "Bihar              Begusarai             1\n",
       "                   Bhagalpur             1\n",
       "                   Katihar               2\n",
       "                   Patna                20\n",
       "                   Purnia                1\n",
       "Chandigarh         Chandigarh            6\n",
       "Chhattisgarh       Korba                 1\n",
       "                   Raipur                1\n",
       "Delhi              Delhi              1034\n",
       "                   Karawal Nagar         2\n",
       "                   New Delhi             1\n",
       "Gujarat            Ahmedabad           621\n",
       "                   Gandhidham            1\n",
       "                   Jamnagar              6\n",
       "                   Rajkot              235\n",
       "                   Surat              2127\n",
       "                   Vadodara            388\n",
       "Haryana            Gurgaon               1\n",
       "                   Karnal                1\n",
       "                   Sonipat               1\n",
       "Jammu and Kashmir  Srinagar              1\n",
       "Jharkhand          Dhanbad              18\n",
       "                   Jamshedpur            1\n",
       "                                      ... \n",
       "Uttar Pradesh      Aligarh               9\n",
       "                   Allahabad             2\n",
       "                   Bareilly              3\n",
       "                   Etawah                1\n",
       "                   Firozabad             4\n",
       "                   Ghaziabad            27\n",
       "                   Gorakhpur             4\n",
       "                   Kanpur              854\n",
       "                   Loni                 10\n",
       "                   Lucknow             219\n",
       "                   Mathura               6\n",
       "                   Mau                   1\n",
       "                   Meerut                7\n",
       "                   Mirzapur              1\n",
       "                   Muzaffarnagar         2\n",
       "                   Noida                 1\n",
       "                   Rampur                1\n",
       "                   Saharanpur            2\n",
       "Uttarakhand        Dehradun              1\n",
       "                   Haridwar              1\n",
       "West Bengal        Asansol               1\n",
       "                   Baranagar             2\n",
       "                   Barasat               1\n",
       "                   Bhatpara              4\n",
       "                   Howrah                3\n",
       "                   Kolkata             543\n",
       "                   North Dumdum          3\n",
       "                   Panihati              1\n",
       "                   Rajpur Sonarpur       2\n",
       "                   Siliguri              1\n",
       "Name: Buy_Times, Length: 116, dtype: int64"
      ]
     },
     "execution_count": 128,
     "metadata": {},
     "output_type": "execute_result"
    }
   ],
   "source": [
    "cust.groupby(['Last_state', 'Last_city'])['Buy_Times'].count()"
   ]
  },
  {
   "cell_type": "code",
   "execution_count": 129,
   "metadata": {},
   "outputs": [
    {
     "data": {
      "text/plain": [
       "Last_state         Last_city      \n",
       "Andhra Pradesh     Guntur                0.000000\n",
       "                   Kurnool             778.374750\n",
       "                   Tirupati           1828.333333\n",
       "                   Vijayawada         1981.191171\n",
       "                   Visakhapatnam      2383.914601\n",
       "                   Vizianagaram       1920.216667\n",
       "Assam              Guwahati           1454.017522\n",
       "Bihar              Begusarai          2855.333222\n",
       "                   Bhagalpur           929.266333\n",
       "                   Katihar            1847.899976\n",
       "                   Patna              1475.133293\n",
       "                   Purnia             1833.500000\n",
       "Chandigarh         Chandigarh         2014.771241\n",
       "Chhattisgarh       Korba               928.800000\n",
       "                   Raipur             1288.666667\n",
       "Delhi              Delhi              2125.372904\n",
       "                   Karawal Nagar      1189.716667\n",
       "                   New Delhi           886.666667\n",
       "Gujarat            Ahmedabad          2028.178722\n",
       "                   Gandhidham         1044.500000\n",
       "                   Jamnagar           1368.168311\n",
       "                   Rajkot             2342.410772\n",
       "                   Surat              2603.479511\n",
       "                   Vadodara           2504.125659\n",
       "Haryana            Gurgaon            2505.119048\n",
       "                   Karnal             1336.000000\n",
       "                   Sonipat            1259.615385\n",
       "Jammu and Kashmir  Srinagar           1524.750000\n",
       "Jharkhand          Dhanbad            2240.077755\n",
       "                   Jamshedpur         1779.999500\n",
       "                                         ...     \n",
       "Uttar Pradesh      Aligarh             889.811111\n",
       "                   Allahabad           803.295833\n",
       "                   Bareilly           3138.317460\n",
       "                   Etawah             1201.333333\n",
       "                   Firozabad          2157.012104\n",
       "                   Ghaziabad          1275.472336\n",
       "                   Gorakhpur          1791.954083\n",
       "                   Kanpur             2481.439472\n",
       "                   Loni               1177.249825\n",
       "                   Lucknow            1998.408521\n",
       "                   Mathura            1923.992922\n",
       "                   Mau                1793.550000\n",
       "                   Meerut             1234.443913\n",
       "                   Mirzapur           1627.000000\n",
       "                   Muzaffarnagar      1187.350000\n",
       "                   Noida              1371.433333\n",
       "                   Rampur             2480.949250\n",
       "                   Saharanpur         4011.029412\n",
       "Uttarakhand        Dehradun            767.500500\n",
       "                   Haridwar           4711.933333\n",
       "West Bengal        Asansol            1264.666667\n",
       "                   Baranagar          2363.340000\n",
       "                   Barasat            2517.447520\n",
       "                   Bhatpara           2025.656855\n",
       "                   Howrah             1543.494444\n",
       "                   Kolkata            2107.631101\n",
       "                   North Dumdum       3307.377778\n",
       "                   Panihati            989.000429\n",
       "                   Rajpur Sonarpur     541.500000\n",
       "                   Siliguri           2594.750000\n",
       "Name: average_revenue_per_trip, Length: 116, dtype: float64"
      ]
     },
     "execution_count": 129,
     "metadata": {},
     "output_type": "execute_result"
    }
   ],
   "source": [
    "cust.groupby(['Last_state', 'Last_city'])['average_revenue_per_trip'].mean()"
   ]
  },
  {
   "cell_type": "code",
   "execution_count": null,
   "metadata": {},
   "outputs": [],
   "source": []
  }
 ],
 "metadata": {
  "kernelspec": {
   "display_name": "Python 3",
   "language": "python",
   "name": "python3"
  },
  "language_info": {
   "codemirror_mode": {
    "name": "ipython",
    "version": 3
   },
   "file_extension": ".py",
   "mimetype": "text/x-python",
   "name": "python",
   "nbconvert_exporter": "python",
   "pygments_lexer": "ipython3",
   "version": "3.6.5"
  }
 },
 "nbformat": 4,
 "nbformat_minor": 2
}
